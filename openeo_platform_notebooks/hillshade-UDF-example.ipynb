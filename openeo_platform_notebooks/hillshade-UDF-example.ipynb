{
 "cells": [
  {
   "cell_type": "code",
   "execution_count": null,
   "id": "99b7dea0-fc04-48c1-8600-f991ab40c323",
   "metadata": {},
   "outputs": [],
   "source": [
    "import xarray\n",
    "import openeo\n",
    "\n",
    "import openeo\n",
    "from openeo.processes import exp, array_element, log \n",
    "from openeo.extra.spectral_indices.spectral_indices import append_index\n",
    "from openeo.udf.debug import inspect\n",
    "from datetime import datetime\n",
    "from dateutil.relativedelta import *"
   ]
  },
  {
   "cell_type": "code",
   "execution_count": null,
   "id": "11e52975-3d43-4271-a69f-95bfd23b3863",
   "metadata": {},
   "outputs": [],
   "source": [
    "connection = openeo.connect(\n",
    "    url=\"openeo-dev.vito.be\"\n",
    "    # url=\"openeo.vito.be\"\n",
    ").authenticate_oidc()"
   ]
  },
  {
   "cell_type": "markdown",
   "id": "7443a2db",
   "metadata": {},
   "source": [
    "# S2 Collection"
   ]
  },
  {
   "cell_type": "code",
   "execution_count": null,
   "id": "0480afaa",
   "metadata": {},
   "outputs": [],
   "source": [
    "start_date      = '2022-01-03'\n",
    "end_date        = '2022-01-08'\n",
    "spatial_extent  = {'west': -74.06810760, 'east': -73.90597343, 'south': 4.689864510, 'north': 4.724080996, 'crs': 'epsg:4326'}\n",
    "\n",
    "# Selecting B03 was needed to make sure that the angles bands have 10 m resolution\n",
    "s2_cube = connection.load_collection(\n",
    "    'SENTINEL2_L2A_SENTINELHUB',\n",
    "    spatial_extent = spatial_extent,\n",
    "    temporal_extent = [start_date, end_date],\n",
    "    bands = ['B03', 'sunAzimuthAngles', 'sunZenithAngles'] \n",
    ")"
   ]
  },
  {
   "cell_type": "markdown",
   "id": "a7be836b-58b1-4ca9-94d1-d5c023c3fffa",
   "metadata": {},
   "source": [
    "# DEM data (COPERNICUS_30)"
   ]
  },
  {
   "cell_type": "code",
   "execution_count": null,
   "id": "9c22e5ed-aacb-4cad-85d0-cff999f9cc9b",
   "metadata": {},
   "outputs": [],
   "source": [
    "dem_cube = connection.load_collection(\n",
    "    \"COPERNICUS_30\",\n",
    "    spatial_extent = spatial_extent,\n",
    "    temporal_extent=[\"2010-01-01\", \"2030-12-31\"],\n",
    ")\n",
    "\n",
    "dem_cube = dem_cube.max_time()\n",
    "dem_cube = dem_cube.resample_cube_spatial(s2_cube)\n",
    "merged_cube = s2_cube.merge_cubes(dem_cube)"
   ]
  },
  {
   "cell_type": "markdown",
   "id": "d498e12c-d677-4825-90b7-e47bbffa15d7",
   "metadata": {},
   "source": [
    "# Hillshade process with UDF"
   ]
  },
  {
   "cell_type": "code",
   "execution_count": null,
   "id": "0f720ff5-8687-4654-b04c-6a79da5c9470",
   "metadata": {},
   "outputs": [],
   "source": [
    "udf_code = \"\"\"\n",
    "\n",
    "from openeo.udf import XarrayDataCube\n",
    "from openeo.udf.debug import inspect\n",
    "import numpy as np\n",
    "from hillshade.hillshade import hillshade\n",
    "\n",
    "\n",
    "def rasterize(azimuth, resolution=None):\n",
    "    # Convert the azimuth into its components on the XY-plane. Depending on the value of the\n",
    "    # azimuth either the x or the y component of the resulting vector is scaled to 1, so that\n",
    "    # it can be used conveniently to walk a grid.\n",
    "\n",
    "    azimuth = np.deg2rad(azimuth)\n",
    "    xdir, ydir = np.sin(azimuth), np.cos(azimuth)\n",
    "\n",
    "    if resolution is not None:\n",
    "        xdir = xdir * resolution[0]\n",
    "        ydir = ydir * resolution[1]\n",
    "\n",
    "    slope = ydir / xdir\n",
    "    if slope < 1. and slope > -1.:\n",
    "        xdir = 1.\n",
    "        ydir = slope\n",
    "    else:\n",
    "        xdir = 1. / slope\n",
    "        ydir = 1.\n",
    "    return xdir, ydir\n",
    "\n",
    "\n",
    "def _run_shader(sun_zenith, sun_azimuth, elevation_model, resolution_x, resolution_y):\n",
    "\n",
    "    azimuth = np.nanmean(sun_azimuth.astype(np.float32))\n",
    "    zenith = np.nanmean(sun_zenith.astype(np.float32))\n",
    "    if np.isnan(azimuth):\n",
    "        shadow = np.zeros(elevation_model.shape) + 255\n",
    "    else:\n",
    "        resolution = (float(resolution_x), float(resolution_y))\n",
    "        ray_xdir, ray_ydir = rasterize(azimuth, resolution)\n",
    "\n",
    "        # Assume chunking is already done by Dask\n",
    "        ystart = 0\n",
    "        yend = elevation_model.shape[0]\n",
    "\n",
    "        # Make sure inputs have the right data type\n",
    "        zenith = float(zenith)\n",
    "        ray = (float(ray_xdir), float(ray_ydir))\n",
    "        shadow = hillshade(elevation_model.astype(np.float32),\n",
    "                           resolution,\n",
    "                           zenith,\n",
    "                           ray,\n",
    "                           ystart,\n",
    "                           yend)\n",
    "        shadow = shadow.reshape(elevation_model.shape)\n",
    "        shadow[np.isnan(sun_azimuth)] = 255\n",
    "    return shadow\n",
    "\n",
    "\n",
    "def apply_datacube(cube: XarrayDataCube, context: dict) -> XarrayDataCube:\n",
    "    in_xarray = cube.get_array()\n",
    "    sun_zenith = in_xarray.sel({\"bands\": \"sunZenithAngles\"}).values.astype(np.float32)\n",
    "    sun_azimuth = in_xarray.sel({\"bands\": \"sunAzimuthAngles\"}).values.astype(np.float32)\n",
    "    elevation_model = in_xarray.sel({\"bands\": \"DEM\"}).values.astype(np.float32)\n",
    "    res_y = in_xarray.coords[\"y\"][int(len(in_xarray.coords[\"y\"])/2)+1] - in_xarray.coords[\"y\"][int(len(in_xarray.coords[\"y\"])/2)]\n",
    "    res_x = in_xarray.coords[\"x\"][int(len(in_xarray.coords[\"x\"])/2)+1] - in_xarray.coords[\"x\"][int(len(in_xarray.coords[\"x\"])/2)]\n",
    "\n",
    "    shadow = _run_shader(sun_zenith, sun_azimuth, elevation_model, res_x, res_y)\n",
    "    cube.get_array().values[0] = shadow\n",
    "    return cube\n",
    "\n",
    "\"\"\""
   ]
  },
  {
   "cell_type": "code",
   "execution_count": null,
   "id": "a8876989-63b9-4f51-837b-d3b8994f660d",
   "metadata": {},
   "outputs": [],
   "source": [
    "process = openeo.UDF(code=udf_code, runtime=\"Python\", data={\"from_parameter\": \"x\"})\n",
    "\n",
    "# Shadow mask replaces the first band (B03) in the merged cube\n",
    "hillshaded = merged_cube.apply_neighborhood(process=process,\n",
    "                                            size=[{\"dimension\":\"t\",\"value\": \"P1D\"},\n",
    "                                                  {\"dimension\": \"x\", \"unit\": \"px\", \"value\": 256},\n",
    "                                                  {\"dimension\": \"y\", \"unit\": \"px\", \"value\": 256}],\n",
    "                                            overlap=[{\"dimension\": \"x\", \"unit\": \"px\", \"value\": \"8\"},\n",
    "                                                     {\"dimension\": \"y\", \"unit\": \"px\", \"value\": \"8\"}])\n",
    "\n",
    "\n",
    "my_job  = hillshaded.send_job(title=\"hillshaded\")\n",
    "results = my_job.start_and_wait().get_results()\n",
    "results.download_files(\"hilshaded\")\n",
    "\n",
    "hillshaded = hillshaded.rename_labels(\"bands\", [\"hillshade_mask\", \"sunAzimuthAngles\", \"sunZenithAngles\", \"DEM\"])\n"
   ]
  },
  {
   "cell_type": "code",
   "execution_count": null,
   "id": "b088cea7",
   "metadata": {},
   "outputs": [],
   "source": [
    "my_job.logs()"
   ]
  },
  {
   "cell_type": "code",
   "execution_count": null,
   "id": "5f3a4f91",
   "metadata": {},
   "outputs": [],
   "source": []
  }
 ],
 "metadata": {
  "kernelspec": {
   "display_name": "Python 3 (ipykernel)",
   "language": "python",
   "name": "python3"
  },
  "language_info": {
   "codemirror_mode": {
    "name": "ipython",
    "version": 3
   },
   "file_extension": ".py",
   "mimetype": "text/x-python",
   "name": "python",
   "nbconvert_exporter": "python",
   "pygments_lexer": "ipython3",
   "version": "3.8.13"
  },
  "vscode": {
   "interpreter": {
    "hash": "bac3ed2dc488f2c378e3bf5b6869692f562f2ddad183c0dcb5bc297978f34f8d"
   }
  }
 },
 "nbformat": 4,
 "nbformat_minor": 5
}
