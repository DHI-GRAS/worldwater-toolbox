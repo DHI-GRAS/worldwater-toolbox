{
 "cells": [
  {
   "cell_type": "markdown",
   "metadata": {},
   "source": [
    "# World Water Toolbox"
   ]
  },
  {
   "cell_type": "markdown",
   "metadata": {},
   "source": [
    "This is an example of the processing chain of using the World Water Toolbox with the openEO Platform. \n",
    "The Processing chain is divided to 3 main sub-flows."
   ]
  },
  {
   "cell_type": "markdown",
   "metadata": {},
   "source": [
    "- Import libraries"
   ]
  },
  {
   "cell_type": "code",
   "execution_count": 2,
   "metadata": {},
   "outputs": [
    {
     "name": "stdout",
     "output_type": "stream",
     "text": [
      "Authenticated using refresh token.\n"
     ]
    }
   ],
   "source": [
    "import numpy as np\n",
    "\n",
    "import pathlib\n",
    "from datetime import datetime\n",
    "from dateutil.relativedelta import *\n",
    "import matplotlib\n",
    "import openeo\n",
    "\n",
    "from openeo.extra.spectral_indices.spectral_indices import append_indices\n",
    "from openeo.processes import exp, array_element,log, count,normalized_difference, gte, eq, neq, sum\n",
    "from openeo.processes import if_\n",
    "import xarray as xr\n",
    "\n",
    "connection = openeo.connect(\"openeo.cloud\").authenticate_oidc()  #openeo.cloud\n"
   ]
  },
  {
   "cell_type": "code",
   "execution_count": 4,
   "metadata": {},
   "outputs": [
    {
     "name": "stdout",
     "output_type": "stream",
     "text": [
      "0:00:00 Job 'agg-pj-20221107-160636': send 'start'\n"
     ]
    }
   ],
   "source": [
    "start_date           = '2021-06-01'\n",
    "spatial_extent       = {'west': -74.5, 'east': -73, 'south': 4.5, 'north': 5, 'crs': 'epsg:4326'} #colombia\n",
    "# spatial_extent       = {'west': -74.06810760, 'east': -73.90597343, 'south': 4.689864510, 'north': 4.724080996, 'crs': 'epsg:4326'} #colombia\n",
    "zone                 = \"tropical\"\n",
    "\n",
    "## Get the Sentinel-2 data for a 3 month window.\n",
    "start_date_dt_object = datetime.strptime(start_date, '%Y-%m-%d')\n",
    "end_date             = (start_date_dt_object + relativedelta(months = +3)).date() ## End date, 1 month later (1st Feb. 2021)\n",
    "start_date_exclusion = (start_date_dt_object + relativedelta(months = -3)).date() ## exclusion date, to give a 3 month window.\n",
    "\n",
    "\n",
    "LOOKUPTABLE = {\n",
    "    \"tropical\": {\n",
    "        \"S1\": lambda vv: 1 / (1 + exp(- (-7.17 + (-0.48 * vv)))),\n",
    "        \"S2\": lambda ndvi, ndwi: 1 / (1 + exp(- (0.845 + (2.14 * ndvi) + (13.5 * ndwi)))),\n",
    "        \"S1_S2\": lambda vv, ndwi: 1 / (1 + exp(- (-2.64 + (-0.23 * vv) + (8.6 * ndwi)))),\n",
    "    },\n",
    "    \"subtropical\":\n",
    "        {\n",
    "            \"S1\": lambda vv, vh: 1 / (1 + exp(- (-8.1 + (-0.13 * vv) + (-0.27 * vh)))),\n",
    "            \"S2\": lambda ndvi, ndwi: 1 / (1 + exp(- (0.845 + (2.14 * ndvi) + (13.5 * ndwi)))),\n",
    "            \"S1_S2\": lambda vv, ndwi: 1 / (1 + exp(- (-2.64 + (-0.23 * vv) + (8.6 * ndwi)))),\n",
    "        }}\n",
    "\n",
    "s2_cube = connection.load_collection(\n",
    "    'SENTINEL2_L2A_SENTINELHUB',\n",
    "    spatial_extent=spatial_extent,\n",
    "    temporal_extent=[start_date_exclusion, end_date],\n",
    "    bands=['B02', 'B03', 'B04', 'B08', 'sunAzimuthAngles', 'sunZenithAngles'])\n",
    "\n",
    "# This will avoid loading data from sentinelhub which is then discarded later on\n",
    "\n",
    "s2_cube_masking = connection.load_collection(\n",
    "    'SENTINEL2_L2A_SENTINELHUB',\n",
    "    spatial_extent=spatial_extent,\n",
    "    temporal_extent=[start_date_exclusion, end_date],\n",
    "    bands=['CLP', 'SCL'])\n",
    "\n",
    "scl = s2_cube_masking.band(\"SCL\")\n",
    "mask_scl = (scl == 3) | (scl == 8) | (scl == 9) | (scl == 10) | (scl == 11)\n",
    "\n",
    "clp = s2_cube_masking.band(\"CLP\")\n",
    "mask_clp = mask_scl | (clp / 255) > 0.3\n",
    "s2_cube = s2_cube.mask(mask_clp.resample_cube_spatial(s2_cube))\n",
    "s2_count = s2_cube.filter_bands(bands=[\"B08\"])\n",
    "s2_count = s2_count.reduce_dimension(reducer=lambda data: data.count(), dimension=\"t\")\n",
    "s2_count = s2_count.rename_labels(\"bands\", [\"count\"])\n",
    "\n",
    "s2_cube = append_indices(s2_cube, [\"NDWI\",\"NDVI\"]) \n",
    "\n",
    "\n",
    "def water_function(data):\n",
    "    return LOOKUPTABLE[zone][\"S2\"](ndwi=data[6], ndvi=data[7])\n",
    "\n",
    "s2_cube_water = s2_cube.reduce_dimension(reducer=water_function, dimension=\"bands\")\n",
    "s2_cube_water = s2_cube_water.add_dimension(\"bands\", \"water_prob\", type=\"bands\")\n",
    "s2_cube_water_threshold = s2_cube_water.apply_dimension(dimension=\"bands\", process=lambda x: if_(x > 0.75, x, 0))\n",
    "s2_cube_water_threshold = s2_cube_water_threshold.rename_labels(\"bands\", [\"w_T75\"])\n",
    "s2_cube_water_sum = s2_cube_water_threshold.reduce_dimension(reducer=\"sum\", dimension=\"t\")\n",
    "s2_cube_water_sum = s2_cube_water_sum.rename_labels(\"bands\", [\"sum\"])\n",
    "s2_cube_swf = s2_cube_water_sum.resample_cube_spatial(s2_count) / s2_count\n",
    "s2_cube_swf = s2_cube_swf.rename_labels(\"bands\", [\"swf\"])\n",
    "s2_median_water = s2_cube_water.filter_temporal([start_date, end_date]).median_time()\n",
    "s2_cube_median = s2_cube.filter_temporal([start_date, end_date]).median_time()\n",
    "\n",
    "## Get Sentinel-1 data for a 1 month window and convert to ARD data.\n",
    "s1_cube = connection.load_collection(\n",
    "    'SENTINEL1_GRD',\n",
    "    spatial_extent=spatial_extent,\n",
    "    temporal_extent=[start_date, end_date],\n",
    "    bands=['VH', 'VV'],\n",
    "    properties={\"polarization\": lambda p: p == \"DV\"})\n",
    "\n",
    "s1_cube = s1_cube.sar_backscatter(coefficient=\"gamma0-terrain\", mask=True, elevation_model=\"COPERNICUS_30\")\n",
    "\n",
    "s1_cube = s1_cube.rename_labels(\"bands\", [\"VH\", \"VV\", \"mask\", \"incidence_angle\"])\n",
    "s1_cube_mask = s1_cube.band(\"mask\")\n",
    "s1_mask_RS = (s1_cube_mask == 2)\n",
    "s1_cube = s1_cube.mask(s1_mask_RS)\n",
    "\n",
    "def log_(x):\n",
    "    return 10 * log(x, 10)\n",
    "s1_median = s1_cube.median_time().apply(log_)\n",
    "\n",
    "def s1_water_function(data):\n",
    "    return LOOKUPTABLE[zone][\"S1\"](vv=data[1])\n",
    "s1_median_water = s1_median.reduce_dimension(reducer=s1_water_function, dimension=\"bands\")\n",
    "\n",
    "exclusion_mask = (s1_median_water.resample_cube_spatial(s2_cube_swf) > 0.5) & (s2_cube_swf < 0.33)\n",
    "s1_median_water_mask = s1_median_water.mask(exclusion_mask.resample_cube_spatial(s1_median_water))\n",
    "\n",
    "def s1_s2_water_function(data):\n",
    "    return LOOKUPTABLE[zone][\"S1_S2\"](vv=data[0], ndwi=data[1])\n",
    "\n",
    "s1_s2_cube = s1_median.filter_bands(['VV']).resample_cube_spatial(s2_cube_median).merge_cubes(s2_cube_median.filter_bands(['NDWI'])) \n",
    "s1_s2_water = s1_s2_cube.reduce_dimension(reducer=s1_s2_water_function, dimension=\"bands\").add_dimension(\"bands\", \"var\", type=\"bands\")                      \n",
    "s1_s2_mask = (s1_s2_water >= 0)\n",
    "s2_mask = s2_median_water.mask(s1_s2_mask) >= 0\n",
    "s1_mask = s1_median_water.mask(s1_s2_mask).mask(s2_mask) >= 0\n",
    "s1_s2_masked = s1_s2_water.mask(s1_s2_mask.apply(lambda x: x.eq(0)), replacement = 0)\n",
    "s2_masked = s2_median_water.mask(s2_mask.apply(lambda x: x.eq(0)), replacement = 0)\n",
    "s1_masked = s1_median_water.mask(s1_mask.apply(lambda x: x.eq(0)), replacement = 0)\n",
    "\n",
    "merge_all = s1_s2_masked.merge_cubes(s2_masked, overlap_resolver='sum').merge_cubes(s1_masked, overlap_resolver='sum')\n",
    "\n",
    "worldcover_cube = connection.load_collection(\"ESA_WORLDCOVER_10M_2020_V1\", \n",
    "                                            temporal_extent = ['2020-12-30', '2021-01-01'], \n",
    "                                            spatial_extent = spatial_extent, \n",
    "                                            bands = [\"MAP\"])\n",
    "                                         \n",
    "builtup_mask = worldcover_cube.band(\"MAP\") == 50\n",
    "water_probability = merge_all.mask(builtup_mask.max_time().resample_cube_spatial(merge_all))\n",
    "water_T75 = water_probability > 0.75\n",
    "\n",
    "\n",
    "job_options = {\n",
    "        \"tile_grid\": \"utm-50km\",\n",
    "        \"executor-memory\": \"10G\",\n",
    "        \"executor-memoryOverhead\": \"10G\",\n",
    "        \"executor-cores\": \"4\"}\n",
    "\n",
    "water_T75_save = merge_all.save_result(format='netCDF') #GTiff #netCDF\n",
    "my_job  = water_T75_save.create_job(title=\"merge_all\", job_options=job_options)\n",
    "results = my_job.start_and_wait().get_results()\n",
    "results.download_files(\"merge_all\") \n"
   ]
  },
  {
   "cell_type": "code",
   "execution_count": 3,
   "metadata": {},
   "outputs": [],
   "source": [
    "ds_water_T75_scale= xr.open_dataset(\"water_T75_scale/0000-openEO.nc\").load()\n",
    "# ds_s2_cube_ndvi_ndwi['NDVI'].plot.imshow(x=\"x\", col = \"t\",  robust=True, col_wrap=2, vmin=-1, vmax=1, figsize=(20, 10)); \n",
    "ds_water_T75_scale['var'].plot.imshow(x=\"x\", robust=True, col_wrap=2, vmin=-1, vmax=1, figsize=(20, 5)); \n",
    "# ds_s2_cube_scale"
   ]
  }
 ],
 "metadata": {
  "kernelspec": {
   "display_name": "Python 3.9.13 ('py39')",
   "language": "python",
   "name": "python3"
  },
  "language_info": {
   "codemirror_mode": {
    "name": "ipython",
    "version": 3
   },
   "file_extension": ".py",
   "mimetype": "text/x-python",
   "name": "python",
   "nbconvert_exporter": "python",
   "pygments_lexer": "ipython3",
   "version": "3.9.13"
  },
  "orig_nbformat": 4,
  "vscode": {
   "interpreter": {
    "hash": "0613ead603244b6e1238f98203370c82c4befd4d133d0d32382bc26a4bc44c28"
   }
  }
 },
 "nbformat": 4,
 "nbformat_minor": 2
}
