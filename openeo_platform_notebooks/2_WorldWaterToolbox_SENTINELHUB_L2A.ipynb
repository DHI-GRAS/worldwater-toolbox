{
 "cells": [
  {
   "cell_type": "markdown",
   "metadata": {},
   "source": []
  },
  {
   "cell_type": "markdown",
   "metadata": {},
   "source": [
    "# World Water Toolbox"
   ]
  },
  {
   "cell_type": "markdown",
   "metadata": {},
   "source": [
    "This is an example of the processing chain of using the World Water Toolbox with the openEO Platform. \n",
    "The Processing chain is divided to 3 main sub-flows."
   ]
  },
  {
   "cell_type": "markdown",
   "metadata": {},
   "source": [
    "![flow](images/flow.PNG)"
   ]
  },
  {
   "cell_type": "code",
   "execution_count": 15,
   "metadata": {},
   "outputs": [],
   "source": [
    "# import libraries\n",
    "import numpy as np\n",
    "import pathlib\n",
    "\n",
    "import openeo\n",
    "from openeo.extra.spectral_indices.spectral_indices import append_index\n",
    "from openeo.processes import array_element, normalized_difference\n",
    "\n",
    "from eo_utils import *\n",
    "from datetime import datetime\n",
    "import dask.array as da\n",
    "import xarray as xr\n",
    "import scipy.signal\n",
    "from dateutil.relativedelta import *"
   ]
  },
  {
   "cell_type": "code",
   "execution_count": 6,
   "metadata": {},
   "outputs": [
    {
     "name": "stdout",
     "output_type": "stream",
     "text": [
      "Authenticated using refresh token.\n"
     ]
    },
    {
     "data": {
      "text/plain": [
       "{'default_plan': 'early-adopter',\n",
       " 'info': {'default_plan': 'early-adopter',\n",
       "  'oidc_userinfo': {'acr': 'https://refeds.org/assurance/IAP/low',\n",
       "   'eduperson_assurance': ['https://aai.egi.eu/LoA#Low',\n",
       "    'https://refeds.org/assurance/IAP/low'],\n",
       "   'eduperson_entitlement': ['urn:mace:egi.eu:group:vo.openeo.cloud:role=vm_operator#aai.egi.eu',\n",
       "    'urn:mace:egi.eu:group:vo.openeo.cloud:role=member#aai.egi.eu',\n",
       "    'urn:mace:egi.eu:group:vo.openeo.cloud:role=early_adopter#aai.egi.eu'],\n",
       "   'email': 'sulova.andrea@gmail.com',\n",
       "   'email_verified': True,\n",
       "   'sub': '1edbae7adc053e5164b8ac7696e17a9ec031bf5a11fe6dce659cafe39a9366a2@egi.eu',\n",
       "   'voperson_verified_email': ['sulova.andrea@gmail.com']},\n",
       "  'roles': ['EarlyAdopter']},\n",
       " 'name': 'sulova.andrea@gmail.com',\n",
       " 'user_id': '1edbae7adc053e5164b8ac7696e17a9ec031bf5a11fe6dce659cafe39a9366a2@egi.eu'}"
      ]
     },
     "execution_count": 6,
     "metadata": {},
     "output_type": "execute_result"
    }
   ],
   "source": [
    "#connect with openeo backend\n",
    "connection = openeo.connect(\"openeo.cloud\")\n",
    "connection.authenticate_oidc()\n",
    "connection.describe_account()"
   ]
  },
  {
   "cell_type": "markdown",
   "metadata": {},
   "source": [
    "# Input parameters\n"
   ]
  },
  {
   "cell_type": "markdown",
   "metadata": {},
   "source": [
    "- Specify the Area of Interest"
   ]
  },
  {
   "cell_type": "code",
   "execution_count": 8,
   "metadata": {},
   "outputs": [
    {
     "data": {
      "application/vnd.jupyter.widget-view+json": {
       "model_id": "163da025b9e643b080f93e2e8b5f5e3e",
       "version_major": 2,
       "version_minor": 0
      },
      "text/plain": [
       "Map(center=[4.707, -73.987], controls=(ZoomControl(options=['position', 'zoom_in_text', 'zoom_in_title', 'zoom…"
      ]
     },
     "metadata": {},
     "output_type": "display_data"
    }
   ],
   "source": [
    "# Colombbia\n",
    "center = [4.707, -73.987]\n",
    "zoom = 14\n",
    "eoMap = openMap(center,zoom)\n",
    "eoMap.map"
   ]
  },
  {
   "cell_type": "code",
   "execution_count": 9,
   "metadata": {},
   "outputs": [
    {
     "name": "stdout",
     "output_type": "stream",
     "text": [
      "west -74.0651035308838 \n",
      "east -73.90897750854494 \n",
      "south 4.689864510216501 \n",
      "north 4.724080996325038\n"
     ]
    }
   ],
   "source": [
    "bbox = eoMap.getBbox()\n",
    "spatial_extent  = {'west':bbox[0],'east':bbox[2],'south':bbox[1],'north':bbox[3],'crs':4326}\n",
    "print('west',bbox[0],'\\neast',bbox[2],'\\nsouth',bbox[1],'\\nnorth',bbox[3])"
   ]
  },
  {
   "cell_type": "markdown",
   "metadata": {},
   "source": [
    "# 1 ) *Sentinel-2 ARD Pre-Processing*\n"
   ]
  },
  {
   "cell_type": "markdown",
   "metadata": {},
   "source": [
    "* Specify collections :\n",
    "  \n",
    "  * **SENTINEL2_L1C** (EODC) - Missing Zenith Azimuth, support FORCE and Fmask\n",
    "\n",
    "  * **SENTINEL2_L1C_SENTINELHUB** (TerraScope backend) - supports SMAC and iCor atmospheric correction\n",
    "\n",
    "  * **boa_sentinel_2** (EODC) -  (ARD)  processed with FORCE. Missing Zenith and Azimuth information, cloud mask needs to be applied\n",
    "\n",
    "\n",
    "  * **SENTINEL2_L2A_SENTINELHUB** (TerraScope backend) - Having Zenith and Azimuth information,  (ARD) processed with sen2cor., cloud mask needs to be applied\n",
    "\n",
    "  Read more about ARD https://docs.openeo.cloud/usecases/ard/msi/#reference-implementations\n",
    "\n"
   ]
  },
  {
   "cell_type": "markdown",
   "metadata": {},
   "source": [
    "![S2](images/S2_v1.PNG)"
   ]
  },
  {
   "cell_type": "markdown",
   "metadata": {},
   "source": [
    "* Specify temporal extent and bands:"
   ]
  },
  {
   "cell_type": "code",
   "execution_count": null,
   "metadata": {},
   "outputs": [],
   "source": [
    "\n",
    "start_date = '2021-01-01'\n",
    "\n",
    "start_date_dt_object = datetime.strptime(start_date, '%Y-%m-%d')\n",
    "end_date = (start_date_dt_object + relativedelta(months = +1)).date() ## End date, 1 month later (1st Feb. 2021)\n",
    "start_date_exclusion = (start_date_dt_object + relativedelta(months = -2)).date() ## exclusion date, to give a 3 month window.\n",
    "\n",
    "\n",
    "\n",
    "start_date      = '2022-01-01'\n",
    "end_date        = '2022-01-31'\n",
    "bands           = ['B02', 'B03', 'B04', 'B05', 'B06', 'B07', 'B08', 'B8A', 'B09',  'B11', 'B12', 'CLP', 'SCL' , 'sunAzimuthAngles', 'sunZenithAngles'] \n",
    "spatial_extent  = {'west': -74.06810760, 'east': -73.90597343, 'south': 4.689864510, 'north': 4.724080996, 'crs': 'epsg:4326'}  #colombia\n",
    "# spatial_extent  = {'west':bbox[0],'east':bbox[2],'south':bbox[1],'north':bbox[3]}\n",
    "\n",
    "## Get the Sentinel-2 data for a 3 month window.\n",
    "s2_cube = connection.load_collection(\n",
    "    'SENTINEL2_L2A_SENTINELHUB',\n",
    "    spatial_extent = spatial_extent,\n",
    "    temporal_extent = [start_date_exclusion, end_date],\n",
    "    bands = ['B02', 'B03', 'B04', 'B08', 'CLP', 'SCL', 'sunAzimuthAngles'] \n",
    ")\n"
   ]
  },
  {
   "cell_type": "markdown",
   "metadata": {},
   "source": [
    "A) *Mask Clouds, Shadows and Snow*\n",
    "- atmospheric_correction: https://docs.openeo.cloud/usecases/ard/msi/#reference-implementations"
   ]
  },
  {
   "cell_type": "code",
   "execution_count": 21,
   "metadata": {},
   "outputs": [],
   "source": [
    "# Scene classification data, based on Sen2Cor process\n",
    "# scl == 3    Cloud Shadows \n",
    "# scl == 8    Clouds medium probability\n",
    "# scl == 9    Clouds high probability\n",
    "# scl == 10   Cirrus\n",
    "# scl == 11   Snow / Ice\n",
    "\n",
    "scl = s2_cube.band(\"SCL\")\n",
    "mask = (scl == 3) | (scl == 8) | (scl == 9) | (scl == 10) |(scl == 11)\n",
    "S2_cube_scl = s2_cube.mask(mask)\n",
    "\n",
    "# CLP (cloud probabilities) based on s2cloudless\n",
    "clp = S2_cube.band(\"CLP\")\n",
    "clp = clp.resample_spatial(resolution=20, method = \"bicubic\")\n",
    "mask = (clp / 255) > 0.3  # 160m resolution s2cloudless so it does not have to use\n",
    "S2_cube = S2_cube_scl.mask(mask)\n"
   ]
  },
  {
   "cell_type": "markdown",
   "metadata": {},
   "source": [
    "- Examples of Cloud Masking\n",
    "\n",
    "a) S2\n",
    "\n",
    "![cloudMask](images/CloudMask_RGB.PNG)\n",
    "\n",
    "b) S2 CLP\n",
    "\n",
    "![cloudMask](images/CloudMask_CLP.PNG)\n",
    "\n",
    "c) S2 SCL\n",
    "\n",
    "![cloudMask](images/CloudMask_SCL.PNG)\n",
    "\n",
    "d) S2 CLP - SCL\n",
    "\n",
    "![cloudMask](images/CloudMask_SCL_CLP.PNG)"
   ]
  },
  {
   "cell_type": "markdown",
   "metadata": {},
   "source": [
    "B) NDVI Calculation \n",
    "-   NDVI (Sentinel 2) = (B8 – B4) / (B8 + B4)\n"
   ]
  },
  {
   "cell_type": "code",
   "execution_count": 22,
   "metadata": {},
   "outputs": [],
   "source": [
    "S2_cube = append_index(S2_cube,\"NDVI\")"
   ]
  },
  {
   "cell_type": "markdown",
   "metadata": {},
   "source": [
    "C) NDWI Calculation \n",
    "\n",
    "-   NDWI (Sentinel 2) = (B3 – B8) / (B3 + B8)"
   ]
  },
  {
   "cell_type": "code",
   "execution_count": 23,
   "metadata": {},
   "outputs": [],
   "source": [
    "S2_cube = append_index(S2_cube,\"NDWI\")"
   ]
  },
  {
   "cell_type": "markdown",
   "metadata": {},
   "source": [
    "D) Mask Terrain Shadow"
   ]
  },
  {
   "cell_type": "code",
   "execution_count": null,
   "metadata": {},
   "outputs": [],
   "source": [
    "dem_cube = connection.load_collection(\n",
    "    \"COPERNICUS_30\",\n",
    "    spatial_extent = spatial_extent,\n",
    "    temporal_extent=[\"2010-01-01\", \"2030-12-31\"])\n",
    "\n",
    "dem_cube = dem_cube.max_time()\n",
    "dem_cube.download(\"poc-copernicus30-raw.nc\") \n",
    "dem_ds = xr.load_dataset(\"poc-copernicus30-raw.nc\""
   ]
  },
  {
   "cell_type": "code",
   "execution_count": 25,
   "metadata": {},
   "outputs": [],
   "source": [
    "udf_code = \"\"\"\n",
    "\n",
    "from openeo.udf import XarrayDataCube\n",
    "from hillshade.hillshade import hillshade\n",
    "\n",
    "def apply_datacube(cube: XarrayDataCube, context: dict) -> XarrayDataCube:\n",
    "    xarr = cube.get_array()\n",
    "    if \"t\" in xarr.coords:\n",
    "        xarr = xarr[{\"t\": 0}]\n",
    "    if \"bands\" in xarr.coords:\n",
    "        xarr = xarr[{\"bands\": 0}]\n",
    "    \n",
    "    elevation = xarr.values\n",
    "    elevation = np.nan_to_num(elevation).clip(0, 8000)\n",
    "    elevation = elevation.astype(\"float32\")\n",
    "    \n",
    "    resolution = (30.0, 30.0)\n",
    "    zenith = 15.0\n",
    "    ray = (0.50, 1.0)\n",
    "    ystart = 0\n",
    "    yend = elevation.shape[1]\n",
    "    \n",
    "    shadow = hillshade(elevation, resolution, zenith, ray, ystart, yend)\n",
    "    \n",
    "    cube.get_array().values[0] = shadow\n",
    "    return cube\n",
    "\"\"\"\n",
    "process = openeo.UDF(code=udf_code, runtime=\"Python\", data={\"from_parameter\": \"x\"})\n",
    "hillshaded = dem_cube.apply(process=process)\n",
    "hillshaded.download(\"poc-hillshaded.nc\")\n"
   ]
  },
  {
   "cell_type": "code",
   "execution_count": null,
   "metadata": {},
   "outputs": [],
   "source": [
    "hillshaded_ds = xarray.load_dataset(\"poc-hillshaded.nc\")\n",
    "hillshaded_ds[\"DEM\"].plot(size = 10)"
   ]
  },
  {
   "cell_type": "markdown",
   "metadata": {},
   "source": [
    "![cloudMask](images/Terrain_shadow.PNG)\n"
   ]
  },
  {
   "cell_type": "markdown",
   "metadata": {},
   "source": [
    "Get an image count (using B8) of all the non-masked areas. ***"
   ]
  },
  {
   "cell_type": "code",
   "execution_count": null,
   "metadata": {},
   "outputs": [],
   "source": [
    "s2_count = s2_cube.filter_bands(bands = [\"B08\"]).reduce_dimension(reducer = \"count\", dimension = \"t\")\n",
    "\n",
    "def water_function(data):\n",
    "    ndwi = array_element(data, index = 7)\n",
    "    ndvi = array_element(data, index = 8)\n",
    "    water = 1 / (1 + exp(- (0.845 + (2.14 * ndvi) + (13.5 * ndwi))))\n",
    "    return water\n",
    "\n",
    " ## Of the non-masked data, calculate water probability for each image.\n",
    "s2_cube_water = s2_cube.reduce_dimension(reducer = water_function, dimension = \"bands\")\n",
    "\n",
    "## apply a threshold of 0.75\n",
    "s2_cube_water_threshold = s2_cube_water.apply(lambda x: x > 0.75)\n",
    "\n",
    "\n",
    "## Count the number of Sentinel-2 Water observations.\n",
    "cube_sum = s2_cube_water_threshold.reduce_dimension(reducer = \"sum\", dimension = \"t\")\n",
    "\n",
    "## Calculate surface water frequency. Water observations / Total image count.\n",
    "cube_swf = cube_sum / s2_count\n",
    "  "
   ]
  },
  {
   "cell_type": "markdown",
   "metadata": {},
   "source": [
    "E) *Create Monthly Best-Pixel Mosaic*"
   ]
  },
  {
   "cell_type": "code",
   "execution_count": 26,
   "metadata": {},
   "outputs": [],
   "source": [
    "## calculate the median s2 water probability for 1-month.\n",
    "s2_median_water = s2_cube_water.filter_temporal([start_date, end_date]).median_time()\n",
    "s2_cube_median = s2_cube.filter_temporal([start_date, end_date]).median_time()"
   ]
  },
  {
   "cell_type": "markdown",
   "metadata": {},
   "source": [
    "Check & download results: https://editor.openeo.org/"
   ]
  },
  {
   "cell_type": "code",
   "execution_count": null,
   "metadata": {},
   "outputs": [],
   "source": [
    "# Send cube to server\n",
    "s2_cube_median = s2_cube_median.save_result(format='GTiff') #GTiff #netCDF\n",
    "my_job  = s2_cube_median.send_job(title=\"S2_L2A\")\n",
    "results = my_job.start_and_wait().get_results()\n",
    "results.download_files(\"s2_cube_median\")"
   ]
  },
  {
   "cell_type": "code",
   "execution_count": null,
   "metadata": {},
   "outputs": [],
   "source": [
    "# !gdalinfo -hist output/openEO.nc\n",
    "S2_L2A = xr.open_dataset('s2_cube_median')"
   ]
  },
  {
   "cell_type": "markdown",
   "metadata": {},
   "source": [
    "# 2) *Sentinel-1 ARD Pre-Processing*\n",
    "\n",
    "Load Collection of Sentinel-1 "
   ]
  },
  {
   "cell_type": "markdown",
   "metadata": {},
   "source": [
    "![Cat](images/S1_v1.PNG)"
   ]
  },
  {
   "cell_type": "markdown",
   "metadata": {},
   "source": [
    " Load Collection"
   ]
  },
  {
   "cell_type": "code",
   "execution_count": null,
   "metadata": {},
   "outputs": [],
   "source": [
    "## Get Sentinel-1 data for a 1 month window and convert to ARD data.\n",
    "s1_cube = connection.load_collection(\n",
    "    'SENTINEL1_GRD', \n",
    "     spatial_extent = spatial_extent, \n",
    "     temporal_extent = [start_date, end_date], \n",
    "     bands = ['VH','VV'],\n",
    "     properties = {\"polarization\": lambda p: p == \"DV\"})\n"
   ]
  },
  {
   "cell_type": "markdown",
   "metadata": {},
   "source": [
    "A)  Analysis-Ready-Data "
   ]
  },
  {
   "cell_type": "code",
   "execution_count": 25,
   "metadata": {},
   "outputs": [],
   "source": [
    "s1_cube = s1_cube.ard_normalized_radar_backscatter()\n",
    "\n",
    "\n",
    "def log_(x):\n",
    "  return 10 * log(x, 10)\n",
    "\n",
    "s1_median = s1_cube.median_time().apply(log_) "
   ]
  },
  {
   "cell_type": "markdown",
   "metadata": {},
   "source": [
    "*C) Mask Sentinel-1 Exclusion Layer*"
   ]
  },
  {
   "cell_type": "code",
   "execution_count": null,
   "metadata": {},
   "outputs": [],
   "source": [
    "def s1_water_function(data):\n",
    "    vv = array_element(data, index = 1)                \n",
    "    water = 1 / (1 + exp(- (-7.17 + (-0.48 * vv))))    \n",
    "    return water\n",
    "\n",
    "s1_median_water = s1_median.reduce_dimension(reducer = s1_water_function, dimension = \"bands\")\n",
    "exclusion_mask = (s1_median_water > 0.5) & (cube_swf < 0.33)\n",
    "s1_median_water = s1_median_water.mask(exclusion_mask)\n"
   ]
  },
  {
   "cell_type": "markdown",
   "metadata": {},
   "source": [
    "Check & download results: https://editor.openeo.org/"
   ]
  },
  {
   "cell_type": "code",
   "execution_count": null,
   "metadata": {},
   "outputs": [],
   "source": [
    "s1_median_water = s1_median_water.save_result(format='GTiff') #GTiff #netCDF\n",
    "my_job  = s1_median_water.send_job(title=\"S1_ARD\")\n",
    "results = my_job.start_and_wait().get_results()\n",
    "\n",
    "results.download_files('s1_median_water')"
   ]
  },
  {
   "cell_type": "markdown",
   "metadata": {},
   "source": [
    "# 3) Water Masking"
   ]
  },
  {
   "cell_type": "markdown",
   "metadata": {},
   "source": [
    "![Cat](images/WM_v1.png)"
   ]
  },
  {
   "cell_type": "markdown",
   "metadata": {},
   "source": [
    "- Load LUT and run logistic expressions\n"
   ]
  },
  {
   "cell_type": "code",
   "execution_count": 60,
   "metadata": {},
   "outputs": [],
   "source": [
    "def s1_s2_water_function (dc):\n",
    "    vv = array_element(dc, index = 0)       \n",
    "    ndwi = array_element(dc, index = 1)  \n",
    "    water = 1 / (1 + exp(- (-2.64 + (-0.23 * vv) + (8.6 * ndwi))))  \n",
    "    return water\n",
    "\n",
    "\n",
    "## Get S1 VV, and S2 NDWI, and apply s1_s2_water function\n",
    "s1_s2_cube = s1_median.filter_bands(['VV']).merge_cubes(s2_cube_median.filter_bands(['NDWI']))\n",
    "s1_s2_cube.download('s1_s2_cube.tif') ##taking more than 15 mins.\n",
    "s1_s2_water = s1_s2_cube.reduce_dimension(reducer = s1_s2_water_function, dimension = \"bands\").mask(exclusion_mask)\n",
    "s1_s2_water.download('s1_s2_water.tif')\n",
    "\n",
    "\n",
    "## create the masks so that the data is independent of each other.\n",
    "s1_s2_mask = s1_s2_water >= 0\n",
    "s2_mask = s2_median_water.mask(s1_s2_mask) >= 0\n",
    "s1_mask = s1_median_water.mask(s1_s2_mask).mask(s2_mask) >= 0\n",
    "# nodata_mask\n",
    "\n",
    "\n",
    "## download and check the masks\n",
    "s1_s2_mask.download('s1_s2_mask.tif')\n",
    "s2_mask.download('s2_mask.tif')\n",
    "s1_mask.download('s1_mask.tif')\n",
    "\n",
    "\n",
    "## masks need to be inverted.\n",
    "s1_s2_masked = s1_s2_water.mask(s1_s2_mask.apply(lambda x: x.eq(0)), replacement = 0)\n",
    "s2_masked = s2_median_water.mask(s2_mask.apply(lambda x: x.eq(0)), replacement = 0)\n",
    "s1_masked = s1_median_water.mask(s1_mask.apply(lambda x: x.eq(0)), replacement = 0)\n",
    "\n",
    "\n",
    "## download and check probabilities are correct after masking.\n",
    "s1_s2_masked.download('s1_s2_masked-v2.tif')\n",
    "s2_masked.download('s2_masked-v2.tif')\n",
    "s1_masked.download('s1_masked-v2.tif')\n",
    "\n",
    "\n",
    "## merge the masked probabilities using \"sum\"\n",
    "merge1 = s1_s2_masked.merge_cubes(s2_masked, overlap_resolver='sum')\n",
    "merge2 = merge1.merge_cubes(s1_masked, overlap_resolver='sum')\n",
    "merge2.download('composite-probability.tif')\n"
   ]
  },
  {
   "cell_type": "markdown",
   "metadata": {},
   "source": [
    "*B) Mask Urban Areas*"
   ]
  },
  {
   "cell_type": "code",
   "execution_count": null,
   "metadata": {},
   "outputs": [],
   "source": [
    "worldcover_cube = connection.load_collection(\"ESA_WORLDCOVER_10M_2020_V1\", \n",
    "                                            temporal_extent = [start_date, end_date], \n",
    "                                            spatial_extent = spatial_extent, \n",
    "                                            bands = [\"MAP\"])\n",
    "                                            #.filter_bbox({'west':bbox[0],'east':bbox[2],'south':bbox[1],'north':bbox[3]})\n",
    "\n",
    "builtup_mask = worldcover_cube.band(\"MAP\") != 50\n",
    "\n",
    "composite = merge2.mask(builtup_mask)"
   ]
  },
  {
   "cell_type": "markdown",
   "metadata": {},
   "source": [
    "*C) Threshold water*"
   ]
  },
  {
   "cell_type": "code",
   "execution_count": null,
   "metadata": {},
   "outputs": [],
   "source": [
    "threshold_water = composite > 0.75\n",
    "\n",
    "# bitmask"
   ]
  }
 ],
 "metadata": {
  "interpreter": {
   "hash": "bac3ed2dc488f2c378e3bf5b6869692f562f2ddad183c0dcb5bc297978f34f8d"
  },
  "kernelspec": {
   "display_name": "Python 3.7.11 ('openEO')",
   "language": "python",
   "name": "python3"
  },
  "language_info": {
   "codemirror_mode": {
    "name": "ipython",
    "version": 3
   },
   "file_extension": ".py",
   "mimetype": "text/x-python",
   "name": "python",
   "nbconvert_exporter": "python",
   "pygments_lexer": "ipython3",
   "version": "3.7.11"
  },
  "orig_nbformat": 4
 },
 "nbformat": 4,
 "nbformat_minor": 2
}
