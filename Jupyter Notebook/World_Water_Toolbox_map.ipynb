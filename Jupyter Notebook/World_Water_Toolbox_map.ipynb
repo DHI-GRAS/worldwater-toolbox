{
 "cells": [
  {
   "cell_type": "markdown",
   "id": "fbf80178-915a-41c7-b71a-f2d6879323c4",
   "metadata": {
    "tags": []
   },
   "source": [
    "# World Water Toolbox"
   ]
  },
  {
   "cell_type": "code",
   "execution_count": 2,
   "id": "c701f619-f1d4-4462-82d6-7b118cb3a69a",
   "metadata": {
    "tags": []
   },
   "outputs": [
    {
     "name": "stdout",
     "output_type": "stream",
     "text": [
      "Authenticated using refresh token.\n"
     ]
    }
   ],
   "source": [
    "import sys\n",
    "sys.path.append(\"../code\")\n",
    "from display import *\n",
    "import openeo\n",
    "import warnings\n",
    "connection = openeo.connect(\"openeo.cloud\").authenticate_oidc()  \n",
    "warnings.filterwarnings(\"ignore\")"
   ]
  },
  {
   "cell_type": "code",
   "execution_count": null,
   "id": "5348bf94-f8cb-4bae-b721-60f6458652d0",
   "metadata": {},
   "outputs": [],
   "source": [
    "generate_map(connection)"
   ]
  }
 ],
 "metadata": {
  "kernelspec": {
   "display_name": "openEO Python Client",
   "language": "python",
   "name": "python3"
  },
  "language_info": {
   "codemirror_mode": {
    "name": "ipython",
    "version": 3
   },
   "file_extension": ".py",
   "mimetype": "text/x-python",
   "name": "python",
   "nbconvert_exporter": "python",
   "pygments_lexer": "ipython3",
   "version": "3.9.6"
  }
 },
 "nbformat": 4,
 "nbformat_minor": 5
}
